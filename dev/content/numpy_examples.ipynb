{
 "cells": [
  {
   "cell_type": "code",
   "execution_count": 1,
   "id": "799b5ef2",
   "metadata": {},
   "outputs": [
    {
     "data": {
      "text/plain": [
       "NumPy version: 1.26.4\n"
      ]
     },
     "execution_count": null,
     "metadata": {},
     "output_type": "execute_result"
    }
   ],
   "source": [
    "# NumPy Examples - Comprehensive Guide\n",
    "import numpy as np\n",
    "print(\"NumPy version:\", np.__version__)"
   ]
  },
  {
   "cell_type": "markdown",
   "id": "5973e74e",
   "metadata": {},
   "source": [
    "# NumPy Examples\n",
    "\n",
    "This notebook demonstrates various NumPy operations including:\n",
    "1. Array creation and basic operations\n",
    "2. Array indexing and slicing\n",
    "3. Mathematical operations\n",
    "4. Statistical functions\n",
    "5. Array reshaping and manipulation\n",
    "6. Linear algebra operations"
   ]
  },
  {
   "cell_type": "code",
   "execution_count": 2,
   "id": "c0b45c26",
   "metadata": {},
   "outputs": [
    {
     "data": {
      "text/plain": [
       "=== Array Creation ===\n",
       "1D array: [1 2 3 4 5]\n",
       "2D array:\n",
       " [[1 2 3]\n",
       " [4 5 6]]\n",
       "Array shapes: (5,) (2, 3)\n",
       "Array dtypes: int64 int64\n"
      ]
     },
     "execution_count": null,
     "metadata": {},
     "output_type": "execute_result"
    }
   ],
   "source": [
    "# 1. Array Creation Examples\n",
    "print(\"=== Array Creation ===\")\n",
    "\n",
    "# Create arrays from lists\n",
    "arr1 = np.array([1, 2, 3, 4, 5])\n",
    "arr2 = np.array([[1, 2, 3], [4, 5, 6]])\n",
    "\n",
    "print(\"1D array:\", arr1)\n",
    "print(\"2D array:\\n\", arr2)\n",
    "print(\"Array shapes:\", arr1.shape, arr2.shape)\n",
    "print(\"Array dtypes:\", arr1.dtype, arr2.dtype)"
   ]
  },
  {
   "cell_type": "code",
   "execution_count": 3,
   "id": "b2cd0795",
   "metadata": {},
   "outputs": [
    {
     "data": {
      "text/plain": [
       "=== Special Array Creation ===\n",
       "Zeros array:\n",
       " [[0. 0. 0. 0.]\n",
       " [0. 0. 0. 0.]\n",
       " [0. 0. 0. 0.]]\n",
       "\n",
       "Ones array:\n",
       " [[1. 1. 1.]\n",
       " [1. 1. 1.]]\n",
       "\n",
       "Empty array:\n",
       " [[1.24473916e-313 0.00000000e+000]\n",
       " [0.00000000e+000 0.00000000e+000]]\n",
       "\n",
       "Arange (0 to 10, step 2): [0 2 4 6 8]\n",
       "Linspace (0 to 1, 5 points): [0.   0.25 0.5  0.75 1.  ]\n"
      ]
     },
     "execution_count": null,
     "metadata": {},
     "output_type": "execute_result"
    }
   ],
   "source": [
    "# Special array creation functions\n",
    "print(\"=== Special Array Creation ===\")\n",
    "\n",
    "# Zeros, ones, and empty arrays\n",
    "zeros = np.zeros((3, 4))\n",
    "ones = np.ones((2, 3))\n",
    "empty = np.empty((2, 2))\n",
    "\n",
    "print(\"Zeros array:\\n\", zeros)\n",
    "print(\"\\nOnes array:\\n\", ones)\n",
    "print(\"\\nEmpty array:\\n\", empty)\n",
    "\n",
    "# Range arrays\n",
    "arange_arr = np.arange(0, 10, 2)  # start, stop, step\n",
    "linspace_arr = np.linspace(0, 1, 5)  # start, stop, num_points\n",
    "\n",
    "print(\"\\nArange (0 to 10, step 2):\", arange_arr)\n",
    "print(\"Linspace (0 to 1, 5 points):\", linspace_arr)"
   ]
  }
 ],
 "metadata": {},
 "nbformat": 4,
 "nbformat_minor": 5
}
